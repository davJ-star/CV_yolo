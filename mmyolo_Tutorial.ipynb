{
  "cells": [
    {
      "cell_type": "markdown",
      "metadata": {
        "id": "view-in-github",
        "colab_type": "text"
      },
      "source": [
        "<a href=\"https://colab.research.google.com/github/davJ-star/CV_yolo/blob/main/mmyolo_Tutorial.ipynb\" target=\"_parent\"><img src=\"https://colab.research.google.com/assets/colab-badge.svg\" alt=\"Open In Colab\"/></a>"
      ]
    },
    {
      "cell_type": "markdown",
      "source": [
        "# mmyolo 설치"
      ],
      "metadata": {
        "id": "1YTJDmxdOX3j"
      }
    },
    {
      "cell_type": "code",
      "source": [
        "import torch\n",
        "\n",
        "print(\"Torch version:{}\".format(torch.__version__))\n",
        "print(\"cuda version: {}\".format(torch.version.cuda))\n",
        "print(\"cudnn version:{}\".format(torch.backends.cudnn.version()))"
      ],
      "metadata": {
        "id": "3bP3TCSaKQ0g"
      },
      "execution_count": null,
      "outputs": []
    },
    {
      "cell_type": "markdown",
      "metadata": {
        "id": "egIrjmP7Di44"
      },
      "source": [
        "MMYOLO 설치. 현재 mmcv 버전 이슈가 존재하기 때문에 wheel 설치 후 pytorch의 버전을 조절해줘야 한다. 4번 코드블럭이 해당 내용을 포함하고 있음\n",
        "첫 코드블럭 실행하고 재시작 해야됨."
      ]
    },
    {
      "cell_type": "code",
      "execution_count": null,
      "metadata": {
        "id": "B4f1uXQt6fFV"
      },
      "outputs": [],
      "source": [
        "!pip3 install openmim\n",
        "\n",
        "!mim install \"mmengine>=0.6.0\"\n",
        "\n",
        "!pip install wheel\n",
        "!pip install torch==2.0.0 torchvision==0.15.1\n",
        "\n",
        "!mim install \"mmcv>=2.0.0rc4,<2.1.0\"\n",
        "!mim install \"mmdet>=3.0.0,<4.0.0\""
      ]
    },
    {
      "cell_type": "code",
      "execution_count": null,
      "metadata": {
        "id": "rKpp9DnH7E8T"
      },
      "outputs": [],
      "source": [
        "!git clone https://github.com/open-mmlab/mmyolo.git"
      ]
    },
    {
      "cell_type": "code",
      "execution_count": null,
      "metadata": {
        "id": "CDhw1n_07Jwx"
      },
      "outputs": [],
      "source": [
        "%cd mmyolo\n",
        "!pip install -e ."
      ]
    },
    {
      "cell_type": "code",
      "execution_count": null,
      "metadata": {
        "id": "ZwbeOK117m5P",
        "colab": {
          "base_uri": "https://localhost:8080/"
        },
        "outputId": "06621438-531b-4769-84eb-489118fbbc3f"
      },
      "outputs": [
        {
          "output_type": "stream",
          "name": "stdout",
          "text": [
            "0.6.0\n"
          ]
        }
      ],
      "source": [
        "import mmyolo\n",
        "print(mmyolo.__version__)"
      ]
    },
    {
      "cell_type": "markdown",
      "source": [
        "# 데이터셋 설정"
      ],
      "metadata": {
        "id": "ktu7u8z0LRrV"
      }
    },
    {
      "cell_type": "code",
      "source": [
        "!python tools/misc/download_dataset.py --dataset-name cat --save-dir ./data/cat --unzip --delete"
      ],
      "metadata": {
        "colab": {
          "base_uri": "https://localhost:8080/"
        },
        "id": "JqqSYbkMLXT3",
        "outputId": "43fe9e71-d441-4aa8-e710-af3a07a36e59"
      },
      "execution_count": null,
      "outputs": [
        {
          "output_type": "stream",
          "name": "stdout",
          "text": [
            "Downloading https://download.openmmlab.com/mmyolo/data/cat_dataset.zip to data/cat/cat_dataset.zip\n",
            "100% 217M/217M [00:30<00:00, 7.37MB/s]\n",
            "Unzipping cat_dataset.zip\n",
            "Delete data/cat/cat_dataset.zip\n"
          ]
        }
      ]
    },
    {
      "cell_type": "markdown",
      "source": [
        "# Config 설정"
      ],
      "metadata": {
        "id": "1q5bXqHdLjVu"
      }
    },
    {
      "cell_type": "markdown",
      "source": [
        "이건 mmyolo 튜토리얼에 존재함.\n",
        "https://github.com/open-mmlab/mmyolo/blob/main/docs/en/get_started/15_minutes_object_detection.md\n"
      ],
      "metadata": {
        "id": "8tJS8QU9MEme"
      }
    },
    {
      "cell_type": "markdown",
      "source": [
        "# Training\n"
      ],
      "metadata": {
        "id": "1W298gaDMJC5"
      }
    },
    {
      "cell_type": "code",
      "source": [
        "!python tools/train.py configs/yolov5/yolov5_s-v61_fast_1xb12-40e_cat.py"
      ],
      "metadata": {
        "colab": {
          "base_uri": "https://localhost:8080/"
        },
        "id": "qMX6W5vTLoR9",
        "outputId": "a536e9e5-8e35-43a9-b286-301ffdc2416b"
      },
      "execution_count": null,
      "outputs": [
        {
          "output_type": "stream",
          "name": "stdout",
          "text": [
            "11/07 10:31:34 - mmengine - \u001b[4m\u001b[97mINFO\u001b[0m - Exp name: yolov5_s-v61_fast_1xb12-40e_cat_20231107_095043\n",
            "11/07 10:31:34 - mmengine - \u001b[4m\u001b[97mINFO\u001b[0m - Epoch(train) [22][10/10]  base_lr: 1.0000e-02 lr: 5.0500e-03  eta: 0:32:52  time: 11.2077  data_time: 2.2510  loss: 0.5438  loss_cls: 0.0000  loss_obj: 0.2252  loss_bbox: 0.3186\n",
            "11/07 10:32:54 - mmengine - \u001b[4m\u001b[97mINFO\u001b[0m - Epoch(train) [23][ 5/10]  base_lr: 1.0000e-02 lr: 4.8025e-03  eta: 0:32:17  time: 11.1499  data_time: 2.2593  loss: 0.5397  loss_cls: 0.0000  loss_obj: 0.2261  loss_bbox: 0.3136\n",
            "11/07 10:33:23 - mmengine - \u001b[4m\u001b[97mINFO\u001b[0m - Exp name: yolov5_s-v61_fast_1xb12-40e_cat_20231107_095043\n",
            "11/07 10:33:23 - mmengine - \u001b[4m\u001b[97mINFO\u001b[0m - Epoch(train) [23][10/10]  base_lr: 1.0000e-02 lr: 4.8025e-03  eta: 0:31:02  time: 11.1420  data_time: 2.2593  loss: 0.5378  loss_cls: 0.0000  loss_obj: 0.2249  loss_bbox: 0.3129\n",
            "11/07 10:34:41 - mmengine - \u001b[4m\u001b[97mINFO\u001b[0m - Epoch(train) [24][ 5/10]  base_lr: 1.0000e-02 lr: 4.5550e-03  eta: 0:30:24  time: 11.1450  data_time: 2.2387  loss: 0.5350  loss_cls: 0.0000  loss_obj: 0.2253  loss_bbox: 0.3097\n",
            "11/07 10:35:10 - mmengine - \u001b[4m\u001b[97mINFO\u001b[0m - Exp name: yolov5_s-v61_fast_1xb12-40e_cat_20231107_095043\n",
            "11/07 10:35:10 - mmengine - \u001b[4m\u001b[97mINFO\u001b[0m - Epoch(train) [24][10/10]  base_lr: 1.0000e-02 lr: 4.5550e-03  eta: 0:29:11  time: 11.1417  data_time: 2.2382  loss: 0.5283  loss_cls: 0.0000  loss_obj: 0.2228  loss_bbox: 0.3055\n",
            "11/07 10:36:33 - mmengine - \u001b[4m\u001b[97mINFO\u001b[0m - Epoch(train) [25][ 5/10]  base_lr: 1.0000e-02 lr: 4.3075e-03  eta: 0:28:34  time: 11.2039  data_time: 2.2729  loss: 0.5266  loss_cls: 0.0000  loss_obj: 0.2221  loss_bbox: 0.3045\n",
            "11/07 10:37:02 - mmengine - \u001b[4m\u001b[97mINFO\u001b[0m - Exp name: yolov5_s-v61_fast_1xb12-40e_cat_20231107_095043\n",
            "11/07 10:37:02 - mmengine - \u001b[4m\u001b[97mINFO\u001b[0m - Epoch(train) [25][10/10]  base_lr: 1.0000e-02 lr: 4.3075e-03  eta: 0:27:23  time: 11.2036  data_time: 2.2725  loss: 0.5213  loss_cls: 0.0000  loss_obj: 0.2216  loss_bbox: 0.2997\n",
            "11/07 10:38:21 - mmengine - \u001b[4m\u001b[97mINFO\u001b[0m - Epoch(train) [26][ 5/10]  base_lr: 1.0000e-02 lr: 4.0600e-03  eta: 0:26:42  time: 11.0652  data_time: 2.2712  loss: 0.5174  loss_cls: 0.0000  loss_obj: 0.2183  loss_bbox: 0.2991\n",
            "11/07 10:38:55 - mmengine - \u001b[4m\u001b[97mINFO\u001b[0m - Exp name: yolov5_s-v61_fast_1xb12-40e_cat_20231107_095043\n",
            "11/07 10:38:55 - mmengine - \u001b[4m\u001b[97mINFO\u001b[0m - Epoch(train) [26][10/10]  base_lr: 1.0000e-02 lr: 4.0600e-03  eta: 0:25:35  time: 11.0844  data_time: 2.2720  loss: 0.5111  loss_cls: 0.0000  loss_obj: 0.2168  loss_bbox: 0.2943\n",
            "11/07 10:40:15 - mmengine - \u001b[4m\u001b[97mINFO\u001b[0m - Epoch(train) [27][ 5/10]  base_lr: 1.0000e-02 lr: 3.8125e-03  eta: 0:24:53  time: 11.0014  data_time: 2.2124  loss: 0.5060  loss_cls: 0.0000  loss_obj: 0.2176  loss_bbox: 0.2884\n",
            "11/07 10:40:44 - mmengine - \u001b[4m\u001b[97mINFO\u001b[0m - Exp name: yolov5_s-v61_fast_1xb12-40e_cat_20231107_095043\n",
            "11/07 10:40:44 - mmengine - \u001b[4m\u001b[97mINFO\u001b[0m - Epoch(train) [27][10/10]  base_lr: 1.0000e-02 lr: 3.8125e-03  eta: 0:23:45  time: 11.0007  data_time: 2.2119  loss: 0.5066  loss_cls: 0.0000  loss_obj: 0.2199  loss_bbox: 0.2867\n",
            "11/07 10:42:07 - mmengine - \u001b[4m\u001b[97mINFO\u001b[0m - Epoch(train) [28][ 5/10]  base_lr: 1.0000e-02 lr: 3.5650e-03  eta: 0:23:03  time: 11.0537  data_time: 2.2209  loss: 0.5062  loss_cls: 0.0000  loss_obj: 0.2196  loss_bbox: 0.2866\n",
            "11/07 10:42:36 - mmengine - \u001b[4m\u001b[97mINFO\u001b[0m - Exp name: yolov5_s-v61_fast_1xb12-40e_cat_20231107_095043\n",
            "11/07 10:42:36 - mmengine - \u001b[4m\u001b[97mINFO\u001b[0m - Epoch(train) [28][10/10]  base_lr: 1.0000e-02 lr: 3.5650e-03  eta: 0:21:56  time: 11.0652  data_time: 2.2213  loss: 0.5014  loss_cls: 0.0000  loss_obj: 0.2191  loss_bbox: 0.2822\n",
            "11/07 10:43:57 - mmengine - \u001b[4m\u001b[97mINFO\u001b[0m - Epoch(train) [29][ 5/10]  base_lr: 1.0000e-02 lr: 3.3175e-03  eta: 0:21:12  time: 11.1091  data_time: 2.2200  loss: 0.4973  loss_cls: 0.0000  loss_obj: 0.2167  loss_bbox: 0.2806\n",
            "11/07 10:44:25 - mmengine - \u001b[4m\u001b[97mINFO\u001b[0m - Exp name: yolov5_s-v61_fast_1xb12-40e_cat_20231107_095043\n",
            "11/07 10:44:25 - mmengine - \u001b[4m\u001b[97mINFO\u001b[0m - Epoch(train) [29][10/10]  base_lr: 1.0000e-02 lr: 3.3175e-03  eta: 0:20:06  time: 11.1000  data_time: 2.2202  loss: 0.4994  loss_cls: 0.0000  loss_obj: 0.2186  loss_bbox: 0.2808\n",
            "11/07 10:45:45 - mmengine - \u001b[4m\u001b[97mINFO\u001b[0m - Epoch(train) [30][ 5/10]  base_lr: 1.0000e-02 lr: 3.0700e-03  eta: 0:19:21  time: 11.0423  data_time: 2.1916  loss: 0.4936  loss_cls: 0.0000  loss_obj: 0.2173  loss_bbox: 0.2763\n",
            "11/07 10:46:14 - mmengine - \u001b[4m\u001b[97mINFO\u001b[0m - Exp name: yolov5_s-v61_fast_1xb12-40e_cat_20231107_095043\n",
            "11/07 10:46:14 - mmengine - \u001b[4m\u001b[97mINFO\u001b[0m - Epoch(train) [30][10/10]  base_lr: 1.0000e-02 lr: 3.0700e-03  eta: 0:18:17  time: 11.0515  data_time: 2.1918  loss: 0.4882  loss_cls: 0.0000  loss_obj: 0.2140  loss_bbox: 0.2742\n",
            "11/07 10:46:14 - mmengine - \u001b[4m\u001b[97mINFO\u001b[0m - Saving checkpoint at 30 epochs\n",
            "11/07 10:46:18 - mmengine - \u001b[4m\u001b[97mINFO\u001b[0m - Epoch(val) [30][ 5/28]    eta: 0:00:09  time: 0.3118  data_time: 0.0341  \n",
            "11/07 10:46:19 - mmengine - \u001b[4m\u001b[97mINFO\u001b[0m - Epoch(val) [30][10/28]    eta: 0:00:06  time: 0.3120  data_time: 0.0341  \n",
            "11/07 10:46:21 - mmengine - \u001b[4m\u001b[97mINFO\u001b[0m - Epoch(val) [30][15/28]    eta: 0:00:04  time: 0.3141  data_time: 0.0341  \n",
            "11/07 10:46:23 - mmengine - \u001b[4m\u001b[97mINFO\u001b[0m - Epoch(val) [30][20/28]    eta: 0:00:02  time: 0.3264  data_time: 0.0341  \n",
            "11/07 10:46:25 - mmengine - \u001b[4m\u001b[97mINFO\u001b[0m - Epoch(val) [30][25/28]    eta: 0:00:01  time: 0.3306  data_time: 0.0172  \n",
            "11/07 10:46:26 - mmengine - \u001b[4m\u001b[97mINFO\u001b[0m - Evaluating bbox...\n",
            "Loading and preparing results...\n",
            "DONE (t=0.00s)\n",
            "creating index...\n",
            "index created!\n",
            "Running per image evaluation...\n",
            "Evaluate annotation type *bbox*\n",
            "DONE (t=0.04s).\n",
            "Accumulating evaluation results...\n",
            "DONE (t=0.01s).\n",
            " Average Precision  (AP) @[ IoU=0.50:0.95 | area=   all | maxDets=100 ] = 0.708\n",
            " Average Precision  (AP) @[ IoU=0.50      | area=   all | maxDets=100 ] = 0.962\n",
            " Average Precision  (AP) @[ IoU=0.75      | area=   all | maxDets=100 ] = 0.870\n",
            " Average Precision  (AP) @[ IoU=0.50:0.95 | area= small | maxDets=100 ] = -1.000\n",
            " Average Precision  (AP) @[ IoU=0.50:0.95 | area=medium | maxDets=100 ] = -1.000\n",
            " Average Precision  (AP) @[ IoU=0.50:0.95 | area= large | maxDets=100 ] = 0.708\n",
            " Average Recall     (AR) @[ IoU=0.50:0.95 | area=   all | maxDets=  1 ] = 0.650\n",
            " Average Recall     (AR) @[ IoU=0.50:0.95 | area=   all | maxDets= 10 ] = 0.763\n",
            " Average Recall     (AR) @[ IoU=0.50:0.95 | area=   all | maxDets=100 ] = 0.763\n",
            " Average Recall     (AR) @[ IoU=0.50:0.95 | area= small | maxDets=100 ] = -1.000\n",
            " Average Recall     (AR) @[ IoU=0.50:0.95 | area=medium | maxDets=100 ] = -1.000\n",
            " Average Recall     (AR) @[ IoU=0.50:0.95 | area= large | maxDets=100 ] = 0.763\n",
            "11/07 10:46:26 - mmengine - \u001b[4m\u001b[97mINFO\u001b[0m - bbox_mAP_copypaste: 0.708 0.962 0.870 -1.000 -1.000 0.708\n",
            "11/07 10:46:26 - mmengine - \u001b[4m\u001b[97mINFO\u001b[0m - Epoch(val) [30][28/28]    coco/bbox_mAP: 0.7080  coco/bbox_mAP_50: 0.9620  coco/bbox_mAP_75: 0.8700  coco/bbox_mAP_s: -1.0000  coco/bbox_mAP_m: -1.0000  coco/bbox_mAP_l: 0.7080  data_time: 0.0275  time: 0.3661\n",
            "11/07 10:46:26 - mmengine - \u001b[4m\u001b[97mINFO\u001b[0m - The previous best checkpoint /content/mmyolo/work_dirs/yolov5_s-v61_fast_1xb12-40e_cat/best_coco_bbox_mAP_epoch_20.pth is removed\n",
            "11/07 10:46:27 - mmengine - \u001b[4m\u001b[97mINFO\u001b[0m - The best checkpoint with 0.7080 coco/bbox_mAP at 30 epoch is saved to best_coco_bbox_mAP_epoch_30.pth.\n",
            "11/07 10:47:48 - mmengine - \u001b[4m\u001b[97mINFO\u001b[0m - Epoch(train) [31][ 5/10]  base_lr: 1.0000e-02 lr: 2.8225e-03  eta: 0:17:29  time: 11.0595  data_time: 2.1629  loss: 0.4867  loss_cls: 0.0000  loss_obj: 0.2157  loss_bbox: 0.2710\n",
            "11/07 10:48:17 - mmengine - \u001b[4m\u001b[97mINFO\u001b[0m - Exp name: yolov5_s-v61_fast_1xb12-40e_cat_20231107_095043\n",
            "11/07 10:48:17 - mmengine - \u001b[4m\u001b[97mINFO\u001b[0m - Epoch(train) [31][10/10]  base_lr: 1.0000e-02 lr: 2.8225e-03  eta: 0:16:26  time: 10.9602  data_time: 2.1629  loss: 0.4852  loss_cls: 0.0000  loss_obj: 0.2172  loss_bbox: 0.2680\n",
            "11/07 10:49:44 - mmengine - \u001b[4m\u001b[97mINFO\u001b[0m - Epoch(train) [32][ 5/10]  base_lr: 1.0000e-02 lr: 2.5750e-03  eta: 0:15:40  time: 11.0799  data_time: 2.1261  loss: 0.4792  loss_cls: 0.0000  loss_obj: 0.2152  loss_bbox: 0.2640\n",
            "11/07 10:50:13 - mmengine - \u001b[4m\u001b[97mINFO\u001b[0m - Exp name: yolov5_s-v61_fast_1xb12-40e_cat_20231107_095043\n",
            "11/07 10:50:13 - mmengine - \u001b[4m\u001b[97mINFO\u001b[0m - Epoch(train) [32][10/10]  base_lr: 1.0000e-02 lr: 2.5750e-03  eta: 0:14:38  time: 11.0995  data_time: 2.1261  loss: 0.4740  loss_cls: 0.0000  loss_obj: 0.2129  loss_bbox: 0.2610\n",
            "11/07 10:51:32 - mmengine - \u001b[4m\u001b[97mINFO\u001b[0m - Epoch(train) [33][ 5/10]  base_lr: 1.0000e-02 lr: 2.3275e-03  eta: 0:13:49  time: 11.0233  data_time: 2.1012  loss: 0.4727  loss_cls: 0.0000  loss_obj: 0.2142  loss_bbox: 0.2585\n",
            "11/07 10:52:01 - mmengine - \u001b[4m\u001b[97mINFO\u001b[0m - Exp name: yolov5_s-v61_fast_1xb12-40e_cat_20231107_095043\n",
            "11/07 10:52:01 - mmengine - \u001b[4m\u001b[97mINFO\u001b[0m - Epoch(train) [33][10/10]  base_lr: 1.0000e-02 lr: 2.3275e-03  eta: 0:12:48  time: 11.0113  data_time: 2.1007  loss: 0.4717  loss_cls: 0.0000  loss_obj: 0.2133  loss_bbox: 0.2584\n",
            "11/07 10:53:21 - mmengine - \u001b[4m\u001b[97mINFO\u001b[0m - Epoch(train) [34][ 5/10]  base_lr: 1.0000e-02 lr: 2.0800e-03  eta: 0:11:58  time: 11.0078  data_time: 2.1117  loss: 0.4680  loss_cls: 0.0000  loss_obj: 0.2128  loss_bbox: 0.2552\n",
            "11/07 10:53:52 - mmengine - \u001b[4m\u001b[97mINFO\u001b[0m - Exp name: yolov5_s-v61_fast_1xb12-40e_cat_20231107_095043\n",
            "11/07 10:53:52 - mmengine - \u001b[4m\u001b[97mINFO\u001b[0m - Epoch(train) [34][10/10]  base_lr: 1.0000e-02 lr: 2.0800e-03  eta: 0:10:59  time: 11.0565  data_time: 2.1116  loss: 0.4666  loss_cls: 0.0000  loss_obj: 0.2124  loss_bbox: 0.2543\n",
            "11/07 10:55:14 - mmengine - \u001b[4m\u001b[97mINFO\u001b[0m - Epoch(train) [35][ 5/10]  base_lr: 1.0000e-02 lr: 1.8325e-03  eta: 0:10:08  time: 11.0824  data_time: 2.1256  loss: 0.4707  loss_cls: 0.0000  loss_obj: 0.2164  loss_bbox: 0.2543\n",
            "11/07 10:55:42 - mmengine - \u001b[4m\u001b[97mINFO\u001b[0m - Exp name: yolov5_s-v61_fast_1xb12-40e_cat_20231107_095043\n",
            "11/07 10:55:42 - mmengine - \u001b[4m\u001b[97mINFO\u001b[0m - Epoch(train) [35][10/10]  base_lr: 1.0000e-02 lr: 1.8325e-03  eta: 0:09:09  time: 11.0706  data_time: 2.1259  loss: 0.4684  loss_cls: 0.0000  loss_obj: 0.2168  loss_bbox: 0.2516\n",
            "11/07 10:57:02 - mmengine - \u001b[4m\u001b[97mINFO\u001b[0m - Epoch(train) [36][ 5/10]  base_lr: 1.0000e-02 lr: 1.5850e-03  eta: 0:08:17  time: 11.0847  data_time: 2.1746  loss: 0.4598  loss_cls: 0.0000  loss_obj: 0.2128  loss_bbox: 0.2469\n",
            "11/07 10:57:31 - mmengine - \u001b[4m\u001b[97mINFO\u001b[0m - Exp name: yolov5_s-v61_fast_1xb12-40e_cat_20231107_095043\n",
            "11/07 10:57:31 - mmengine - \u001b[4m\u001b[97mINFO\u001b[0m - Epoch(train) [36][10/10]  base_lr: 1.0000e-02 lr: 1.5850e-03  eta: 0:07:19  time: 11.0829  data_time: 2.1739  loss: 0.4537  loss_cls: 0.0000  loss_obj: 0.2077  loss_bbox: 0.2460\n",
            "11/07 10:58:50 - mmengine - \u001b[4m\u001b[97mINFO\u001b[0m - Epoch(train) [37][ 5/10]  base_lr: 1.0000e-02 lr: 1.3375e-03  eta: 0:06:26  time: 10.9264  data_time: 2.1798  loss: 0.4554  loss_cls: 0.0000  loss_obj: 0.2105  loss_bbox: 0.2448\n",
            "11/07 10:59:24 - mmengine - \u001b[4m\u001b[97mINFO\u001b[0m - Exp name: yolov5_s-v61_fast_1xb12-40e_cat_20231107_095043\n",
            "11/07 10:59:24 - mmengine - \u001b[4m\u001b[97mINFO\u001b[0m - Epoch(train) [37][10/10]  base_lr: 1.0000e-02 lr: 1.3375e-03  eta: 0:05:29  time: 11.0217  data_time: 2.1814  loss: 0.4540  loss_cls: 0.0000  loss_obj: 0.2095  loss_bbox: 0.2444\n",
            "11/07 11:00:48 - mmengine - \u001b[4m\u001b[97mINFO\u001b[0m - Epoch(train) [38][ 5/10]  base_lr: 1.0000e-02 lr: 1.0900e-03  eta: 0:04:36  time: 11.1087  data_time: 2.2620  loss: 0.4477  loss_cls: 0.0000  loss_obj: 0.2059  loss_bbox: 0.2418\n",
            "11/07 11:01:17 - mmengine - \u001b[4m\u001b[97mINFO\u001b[0m - Exp name: yolov5_s-v61_fast_1xb12-40e_cat_20231107_095043\n",
            "11/07 11:01:17 - mmengine - \u001b[4m\u001b[97mINFO\u001b[0m - Epoch(train) [38][10/10]  base_lr: 1.0000e-02 lr: 1.0900e-03  eta: 0:03:39  time: 11.1236  data_time: 2.2631  loss: 0.4497  loss_cls: 0.0000  loss_obj: 0.2076  loss_bbox: 0.2421\n",
            "11/07 11:02:37 - mmengine - \u001b[4m\u001b[97mINFO\u001b[0m - Epoch(train) [39][ 5/10]  base_lr: 1.0000e-02 lr: 8.4250e-04  eta: 0:02:45  time: 11.1075  data_time: 2.2822  loss: 0.4476  loss_cls: 0.0000  loss_obj: 0.2054  loss_bbox: 0.2421\n",
            "11/07 11:03:05 - mmengine - \u001b[4m\u001b[97mINFO\u001b[0m - Exp name: yolov5_s-v61_fast_1xb12-40e_cat_20231107_095043\n",
            "11/07 11:03:05 - mmengine - \u001b[4m\u001b[97mINFO\u001b[0m - Epoch(train) [39][10/10]  base_lr: 1.0000e-02 lr: 8.4250e-04  eta: 0:01:49  time: 11.0617  data_time: 2.2819  loss: 0.4432  loss_cls: 0.0000  loss_obj: 0.2052  loss_bbox: 0.2380\n",
            "11/07 11:04:24 - mmengine - \u001b[4m\u001b[97mINFO\u001b[0m - Epoch(train) [40][ 5/10]  base_lr: 1.0000e-02 lr: 5.9500e-04  eta: 0:00:55  time: 11.0013  data_time: 2.2659  loss: 0.4337  loss_cls: 0.0000  loss_obj: 0.1999  loss_bbox: 0.2337\n",
            "11/07 11:04:53 - mmengine - \u001b[4m\u001b[97mINFO\u001b[0m - Exp name: yolov5_s-v61_fast_1xb12-40e_cat_20231107_095043\n",
            "11/07 11:04:53 - mmengine - \u001b[4m\u001b[97mINFO\u001b[0m - Epoch(train) [40][10/10]  base_lr: 1.0000e-02 lr: 5.9500e-04  eta: 0:00:00  time: 11.0091  data_time: 2.2661  loss: 0.4358  loss_cls: 0.0000  loss_obj: 0.2014  loss_bbox: 0.2344\n",
            "11/07 11:04:53 - mmengine - \u001b[4m\u001b[97mINFO\u001b[0m - Saving checkpoint at 40 epochs\n",
            "11/07 11:04:56 - mmengine - \u001b[4m\u001b[97mINFO\u001b[0m - Epoch(val) [40][ 5/28]    eta: 0:00:09  time: 0.3430  data_time: 0.0305  \n",
            "11/07 11:04:57 - mmengine - \u001b[4m\u001b[97mINFO\u001b[0m - Epoch(val) [40][10/28]    eta: 0:00:06  time: 0.3442  data_time: 0.0307  \n",
            "11/07 11:04:59 - mmengine - \u001b[4m\u001b[97mINFO\u001b[0m - Epoch(val) [40][15/28]    eta: 0:00:04  time: 0.3461  data_time: 0.0306  \n",
            "11/07 11:05:01 - mmengine - \u001b[4m\u001b[97mINFO\u001b[0m - Epoch(val) [40][20/28]    eta: 0:00:03  time: 0.3686  data_time: 0.0310  \n",
            "11/07 11:05:04 - mmengine - \u001b[4m\u001b[97mINFO\u001b[0m - Epoch(val) [40][25/28]    eta: 0:00:01  time: 0.3724  data_time: 0.0169  \n",
            "11/07 11:05:04 - mmengine - \u001b[4m\u001b[97mINFO\u001b[0m - Evaluating bbox...\n",
            "Loading and preparing results...\n",
            "DONE (t=0.00s)\n",
            "creating index...\n",
            "index created!\n",
            "Running per image evaluation...\n",
            "Evaluate annotation type *bbox*\n",
            "DONE (t=0.03s).\n",
            "Accumulating evaluation results...\n",
            "DONE (t=0.01s).\n",
            " Average Precision  (AP) @[ IoU=0.50:0.95 | area=   all | maxDets=100 ] = 0.717\n",
            " Average Precision  (AP) @[ IoU=0.50      | area=   all | maxDets=100 ] = 0.967\n",
            " Average Precision  (AP) @[ IoU=0.75      | area=   all | maxDets=100 ] = 0.795\n",
            " Average Precision  (AP) @[ IoU=0.50:0.95 | area= small | maxDets=100 ] = -1.000\n",
            " Average Precision  (AP) @[ IoU=0.50:0.95 | area=medium | maxDets=100 ] = -1.000\n",
            " Average Precision  (AP) @[ IoU=0.50:0.95 | area= large | maxDets=100 ] = 0.717\n",
            " Average Recall     (AR) @[ IoU=0.50:0.95 | area=   all | maxDets=  1 ] = 0.650\n",
            " Average Recall     (AR) @[ IoU=0.50:0.95 | area=   all | maxDets= 10 ] = 0.797\n",
            " Average Recall     (AR) @[ IoU=0.50:0.95 | area=   all | maxDets=100 ] = 0.797\n",
            " Average Recall     (AR) @[ IoU=0.50:0.95 | area= small | maxDets=100 ] = -1.000\n",
            " Average Recall     (AR) @[ IoU=0.50:0.95 | area=medium | maxDets=100 ] = -1.000\n",
            " Average Recall     (AR) @[ IoU=0.50:0.95 | area= large | maxDets=100 ] = 0.797\n",
            "11/07 11:05:05 - mmengine - \u001b[4m\u001b[97mINFO\u001b[0m - bbox_mAP_copypaste: 0.717 0.967 0.795 -1.000 -1.000 0.717\n",
            "11/07 11:05:05 - mmengine - \u001b[4m\u001b[97mINFO\u001b[0m - Epoch(val) [40][28/28]    coco/bbox_mAP: 0.7170  coco/bbox_mAP_50: 0.9670  coco/bbox_mAP_75: 0.7950  coco/bbox_mAP_s: -1.0000  coco/bbox_mAP_m: -1.0000  coco/bbox_mAP_l: 0.7170  data_time: 0.0272  time: 0.3808\n",
            "11/07 11:05:05 - mmengine - \u001b[4m\u001b[97mINFO\u001b[0m - The previous best checkpoint /content/mmyolo/work_dirs/yolov5_s-v61_fast_1xb12-40e_cat/best_coco_bbox_mAP_epoch_30.pth is removed\n",
            "11/07 11:05:06 - mmengine - \u001b[4m\u001b[97mINFO\u001b[0m - The best checkpoint with 0.7170 coco/bbox_mAP at 40 epoch is saved to best_coco_bbox_mAP_epoch_40.pth.\n"
          ]
        }
      ]
    },
    {
      "cell_type": "markdown",
      "source": [
        "# Object Detection"
      ],
      "metadata": {
        "id": "d19hqu4JuTJS"
      }
    },
    {
      "cell_type": "markdown",
      "source": [
        "결과는 work_dirs/yoloV5_s-v61_fast_1xb12-40e_cat/show_results 에 존재한다."
      ],
      "metadata": {
        "id": "otDKlHhf8h_d"
      }
    },
    {
      "cell_type": "code",
      "source": [
        "!pip install tensorboard"
      ],
      "metadata": {
        "id": "PwXhRJN_uXb-"
      },
      "execution_count": null,
      "outputs": []
    },
    {
      "cell_type": "code",
      "source": [
        "!python tools/test.py configs/yolov5/yolov5_s-v61_fast_1xb12-40e_cat.py \\\n",
        "                     work_dirs/yolov5_s-v61_fast_1xb12-40e_cat/epoch_40.pth \\\n",
        "                     --show-dir show_results"
      ],
      "metadata": {
        "id": "uotW5zKL6-Xo"
      },
      "execution_count": null,
      "outputs": []
    }
  ],
  "metadata": {
    "colab": {
      "provenance": [],
      "include_colab_link": true
    },
    "kernelspec": {
      "display_name": "Python 3",
      "name": "python3"
    },
    "language_info": {
      "name": "python"
    }
  },
  "nbformat": 4,
  "nbformat_minor": 0
}