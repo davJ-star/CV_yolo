{
  "nbformat": 4,
  "nbformat_minor": 0,
  "metadata": {
    "colab": {
      "provenance": [],
      "mount_file_id": "1jk-8ntUoARJbPgYBx3nDxq6oTOx0GTC5",
      "authorship_tag": "ABX9TyOAwMzdL4l+FbZH8KdUswOZ",
      "include_colab_link": true
    },
    "kernelspec": {
      "name": "python3",
      "display_name": "Python 3"
    },
    "language_info": {
      "name": "python"
    }
  },
  "cells": [
    {
      "cell_type": "markdown",
      "metadata": {
        "id": "view-in-github",
        "colab_type": "text"
      },
      "source": [
        "<a href=\"https://colab.research.google.com/github/davJ-star/CV_yolo/blob/main/mmyolo_week1.ipynb\" target=\"_parent\"><img src=\"https://colab.research.google.com/assets/colab-badge.svg\" alt=\"Open In Colab\"/></a>"
      ]
    },
    {
      "cell_type": "markdown",
      "source": [
        "# Installation"
      ],
      "metadata": {
        "id": "2aI8tFNB9XaC"
      }
    },
    {
      "cell_type": "markdown",
      "source": [
        "## Step 0. Install MMEngine and MMCV using MIM.\n",
        "\n",
        "\n",
        "**단 colab 경우, 맨앞에 !를 추가**\n",
        "```\n",
        "pip install -U openmim\n",
        "mim install \"mmengine>=0.6.0\"\n",
        "mim install \"mmcv>=2.0.0rc4,<2.1.0\"\n",
        "mim install \"mmdet>=3.0.0,<4.0.0\"\n",
        "```\n",
        "\n"
      ],
      "metadata": {
        "id": "bLWxCaXJ_L1u"
      }
    },
    {
      "cell_type": "code",
      "execution_count": 1,
      "metadata": {
        "id": "u0NnY9H3-PtG",
        "colab": {
          "base_uri": "https://localhost:8080/"
        },
        "outputId": "37ac9cf2-ce70-4c6f-8513-0234d3a81436"
      },
      "outputs": [
        {
          "output_type": "stream",
          "name": "stdout",
          "text": [
            "Requirement already satisfied: openmim in /usr/local/lib/python3.10/dist-packages (0.3.9)\n",
            "Requirement already satisfied: Click in /usr/local/lib/python3.10/dist-packages (from openmim) (8.1.7)\n",
            "Requirement already satisfied: colorama in /usr/local/lib/python3.10/dist-packages (from openmim) (0.4.6)\n",
            "Requirement already satisfied: model-index in /usr/local/lib/python3.10/dist-packages (from openmim) (0.1.11)\n",
            "Requirement already satisfied: opendatalab in /usr/local/lib/python3.10/dist-packages (from openmim) (0.0.10)\n",
            "Requirement already satisfied: pandas in /usr/local/lib/python3.10/dist-packages (from openmim) (1.5.3)\n",
            "Requirement already satisfied: pip>=19.3 in /usr/local/lib/python3.10/dist-packages (from openmim) (23.1.2)\n",
            "Requirement already satisfied: requests in /usr/local/lib/python3.10/dist-packages (from openmim) (2.28.2)\n",
            "Requirement already satisfied: rich in /usr/local/lib/python3.10/dist-packages (from openmim) (13.4.2)\n",
            "Requirement already satisfied: tabulate in /usr/local/lib/python3.10/dist-packages (from openmim) (0.9.0)\n",
            "Requirement already satisfied: pyyaml in /usr/local/lib/python3.10/dist-packages (from model-index->openmim) (6.0.1)\n",
            "Requirement already satisfied: markdown in /usr/local/lib/python3.10/dist-packages (from model-index->openmim) (3.5)\n",
            "Requirement already satisfied: ordered-set in /usr/local/lib/python3.10/dist-packages (from model-index->openmim) (4.1.0)\n",
            "Requirement already satisfied: pycryptodome in /usr/local/lib/python3.10/dist-packages (from opendatalab->openmim) (3.19.0)\n",
            "Requirement already satisfied: tqdm in /usr/local/lib/python3.10/dist-packages (from opendatalab->openmim) (4.65.2)\n",
            "Requirement already satisfied: openxlab in /usr/local/lib/python3.10/dist-packages (from opendatalab->openmim) (0.0.26)\n",
            "Requirement already satisfied: charset-normalizer<4,>=2 in /usr/local/lib/python3.10/dist-packages (from requests->openmim) (3.3.0)\n",
            "Requirement already satisfied: idna<4,>=2.5 in /usr/local/lib/python3.10/dist-packages (from requests->openmim) (3.4)\n",
            "Requirement already satisfied: urllib3<1.27,>=1.21.1 in /usr/local/lib/python3.10/dist-packages (from requests->openmim) (1.26.17)\n",
            "Requirement already satisfied: certifi>=2017.4.17 in /usr/local/lib/python3.10/dist-packages (from requests->openmim) (2023.7.22)\n",
            "Requirement already satisfied: python-dateutil>=2.8.1 in /usr/local/lib/python3.10/dist-packages (from pandas->openmim) (2.8.2)\n",
            "Requirement already satisfied: pytz>=2020.1 in /usr/local/lib/python3.10/dist-packages (from pandas->openmim) (2023.3.post1)\n",
            "Requirement already satisfied: numpy>=1.21.0 in /usr/local/lib/python3.10/dist-packages (from pandas->openmim) (1.23.5)\n",
            "Requirement already satisfied: markdown-it-py>=2.2.0 in /usr/local/lib/python3.10/dist-packages (from rich->openmim) (3.0.0)\n",
            "Requirement already satisfied: pygments<3.0.0,>=2.13.0 in /usr/local/lib/python3.10/dist-packages (from rich->openmim) (2.16.1)\n",
            "Requirement already satisfied: mdurl~=0.1 in /usr/local/lib/python3.10/dist-packages (from markdown-it-py>=2.2.0->rich->openmim) (0.1.2)\n",
            "Requirement already satisfied: six>=1.5 in /usr/local/lib/python3.10/dist-packages (from python-dateutil>=2.8.1->pandas->openmim) (1.16.0)\n",
            "Requirement already satisfied: oss2~=2.17.0 in /usr/local/lib/python3.10/dist-packages (from openxlab->opendatalab->openmim) (2.17.0)\n",
            "Requirement already satisfied: setuptools~=60.2.0 in /usr/local/lib/python3.10/dist-packages (from openxlab->opendatalab->openmim) (60.2.0)\n",
            "Requirement already satisfied: crcmod>=1.7 in /usr/local/lib/python3.10/dist-packages (from oss2~=2.17.0->openxlab->opendatalab->openmim) (1.7)\n",
            "Requirement already satisfied: aliyun-python-sdk-kms>=2.4.1 in /usr/local/lib/python3.10/dist-packages (from oss2~=2.17.0->openxlab->opendatalab->openmim) (2.16.2)\n",
            "Requirement already satisfied: aliyun-python-sdk-core>=2.13.12 in /usr/local/lib/python3.10/dist-packages (from oss2~=2.17.0->openxlab->opendatalab->openmim) (2.14.0)\n",
            "Requirement already satisfied: jmespath<1.0.0,>=0.9.3 in /usr/local/lib/python3.10/dist-packages (from aliyun-python-sdk-core>=2.13.12->oss2~=2.17.0->openxlab->opendatalab->openmim) (0.10.0)\n",
            "Requirement already satisfied: cryptography>=2.6.0 in /usr/local/lib/python3.10/dist-packages (from aliyun-python-sdk-core>=2.13.12->oss2~=2.17.0->openxlab->opendatalab->openmim) (41.0.4)\n",
            "Requirement already satisfied: cffi>=1.12 in /usr/local/lib/python3.10/dist-packages (from cryptography>=2.6.0->aliyun-python-sdk-core>=2.13.12->oss2~=2.17.0->openxlab->opendatalab->openmim) (1.16.0)\n",
            "Requirement already satisfied: pycparser in /usr/local/lib/python3.10/dist-packages (from cffi>=1.12->cryptography>=2.6.0->aliyun-python-sdk-core>=2.13.12->oss2~=2.17.0->openxlab->opendatalab->openmim) (2.21)\n",
            "Looking in links: https://download.openmmlab.com/mmcv/dist/cu118/torch2.0.0/index.html\n",
            "Requirement already satisfied: mmengine>=0.6.0 in /usr/local/lib/python3.10/dist-packages (0.9.0)\n",
            "Requirement already satisfied: addict in /usr/local/lib/python3.10/dist-packages (from mmengine>=0.6.0) (2.4.0)\n",
            "Requirement already satisfied: matplotlib in /usr/local/lib/python3.10/dist-packages (from mmengine>=0.6.0) (3.7.1)\n",
            "Requirement already satisfied: numpy in /usr/local/lib/python3.10/dist-packages (from mmengine>=0.6.0) (1.23.5)\n",
            "Requirement already satisfied: pyyaml in /usr/local/lib/python3.10/dist-packages (from mmengine>=0.6.0) (6.0.1)\n",
            "Requirement already satisfied: rich in /usr/local/lib/python3.10/dist-packages (from mmengine>=0.6.0) (13.4.2)\n",
            "Requirement already satisfied: termcolor in /usr/local/lib/python3.10/dist-packages (from mmengine>=0.6.0) (2.3.0)\n",
            "Requirement already satisfied: yapf in /usr/local/lib/python3.10/dist-packages (from mmengine>=0.6.0) (0.40.2)\n",
            "Requirement already satisfied: opencv-python>=3 in /usr/local/lib/python3.10/dist-packages (from mmengine>=0.6.0) (4.8.0.76)\n",
            "Requirement already satisfied: contourpy>=1.0.1 in /usr/local/lib/python3.10/dist-packages (from matplotlib->mmengine>=0.6.0) (1.1.1)\n",
            "Requirement already satisfied: cycler>=0.10 in /usr/local/lib/python3.10/dist-packages (from matplotlib->mmengine>=0.6.0) (0.12.1)\n",
            "Requirement already satisfied: fonttools>=4.22.0 in /usr/local/lib/python3.10/dist-packages (from matplotlib->mmengine>=0.6.0) (4.43.1)\n",
            "Requirement already satisfied: kiwisolver>=1.0.1 in /usr/local/lib/python3.10/dist-packages (from matplotlib->mmengine>=0.6.0) (1.4.5)\n",
            "Requirement already satisfied: packaging>=20.0 in /usr/local/lib/python3.10/dist-packages (from matplotlib->mmengine>=0.6.0) (23.2)\n",
            "Requirement already satisfied: pillow>=6.2.0 in /usr/local/lib/python3.10/dist-packages (from matplotlib->mmengine>=0.6.0) (9.4.0)\n",
            "Requirement already satisfied: pyparsing>=2.3.1 in /usr/local/lib/python3.10/dist-packages (from matplotlib->mmengine>=0.6.0) (3.1.1)\n",
            "Requirement already satisfied: python-dateutil>=2.7 in /usr/local/lib/python3.10/dist-packages (from matplotlib->mmengine>=0.6.0) (2.8.2)\n",
            "Requirement already satisfied: markdown-it-py>=2.2.0 in /usr/local/lib/python3.10/dist-packages (from rich->mmengine>=0.6.0) (3.0.0)\n",
            "Requirement already satisfied: pygments<3.0.0,>=2.13.0 in /usr/local/lib/python3.10/dist-packages (from rich->mmengine>=0.6.0) (2.16.1)\n",
            "Requirement already satisfied: importlib-metadata>=6.6.0 in /usr/local/lib/python3.10/dist-packages (from yapf->mmengine>=0.6.0) (6.8.0)\n",
            "Requirement already satisfied: platformdirs>=3.5.1 in /usr/local/lib/python3.10/dist-packages (from yapf->mmengine>=0.6.0) (3.11.0)\n",
            "Requirement already satisfied: tomli>=2.0.1 in /usr/local/lib/python3.10/dist-packages (from yapf->mmengine>=0.6.0) (2.0.1)\n",
            "Requirement already satisfied: zipp>=0.5 in /usr/local/lib/python3.10/dist-packages (from importlib-metadata>=6.6.0->yapf->mmengine>=0.6.0) (3.17.0)\n",
            "Requirement already satisfied: mdurl~=0.1 in /usr/local/lib/python3.10/dist-packages (from markdown-it-py>=2.2.0->rich->mmengine>=0.6.0) (0.1.2)\n",
            "Requirement already satisfied: six>=1.5 in /usr/local/lib/python3.10/dist-packages (from python-dateutil>=2.7->matplotlib->mmengine>=0.6.0) (1.16.0)\n",
            "Looking in links: https://download.openmmlab.com/mmcv/dist/cu118/torch2.0.0/index.html\n",
            "Requirement already satisfied: mmcv<2.1.0,>=2.0.0rc4 in /usr/local/lib/python3.10/dist-packages (2.0.1)\n",
            "Requirement already satisfied: addict in /usr/local/lib/python3.10/dist-packages (from mmcv<2.1.0,>=2.0.0rc4) (2.4.0)\n",
            "Requirement already satisfied: mmengine>=0.3.0 in /usr/local/lib/python3.10/dist-packages (from mmcv<2.1.0,>=2.0.0rc4) (0.9.0)\n",
            "Requirement already satisfied: numpy in /usr/local/lib/python3.10/dist-packages (from mmcv<2.1.0,>=2.0.0rc4) (1.23.5)\n",
            "Requirement already satisfied: packaging in /usr/local/lib/python3.10/dist-packages (from mmcv<2.1.0,>=2.0.0rc4) (23.2)\n",
            "Requirement already satisfied: Pillow in /usr/local/lib/python3.10/dist-packages (from mmcv<2.1.0,>=2.0.0rc4) (9.4.0)\n",
            "Requirement already satisfied: pyyaml in /usr/local/lib/python3.10/dist-packages (from mmcv<2.1.0,>=2.0.0rc4) (6.0.1)\n",
            "Requirement already satisfied: yapf in /usr/local/lib/python3.10/dist-packages (from mmcv<2.1.0,>=2.0.0rc4) (0.40.2)\n",
            "Requirement already satisfied: opencv-python>=3 in /usr/local/lib/python3.10/dist-packages (from mmcv<2.1.0,>=2.0.0rc4) (4.8.0.76)\n",
            "Requirement already satisfied: matplotlib in /usr/local/lib/python3.10/dist-packages (from mmengine>=0.3.0->mmcv<2.1.0,>=2.0.0rc4) (3.7.1)\n",
            "Requirement already satisfied: rich in /usr/local/lib/python3.10/dist-packages (from mmengine>=0.3.0->mmcv<2.1.0,>=2.0.0rc4) (13.4.2)\n",
            "Requirement already satisfied: termcolor in /usr/local/lib/python3.10/dist-packages (from mmengine>=0.3.0->mmcv<2.1.0,>=2.0.0rc4) (2.3.0)\n",
            "Requirement already satisfied: importlib-metadata>=6.6.0 in /usr/local/lib/python3.10/dist-packages (from yapf->mmcv<2.1.0,>=2.0.0rc4) (6.8.0)\n",
            "Requirement already satisfied: platformdirs>=3.5.1 in /usr/local/lib/python3.10/dist-packages (from yapf->mmcv<2.1.0,>=2.0.0rc4) (3.11.0)\n",
            "Requirement already satisfied: tomli>=2.0.1 in /usr/local/lib/python3.10/dist-packages (from yapf->mmcv<2.1.0,>=2.0.0rc4) (2.0.1)\n",
            "Requirement already satisfied: zipp>=0.5 in /usr/local/lib/python3.10/dist-packages (from importlib-metadata>=6.6.0->yapf->mmcv<2.1.0,>=2.0.0rc4) (3.17.0)\n",
            "Requirement already satisfied: contourpy>=1.0.1 in /usr/local/lib/python3.10/dist-packages (from matplotlib->mmengine>=0.3.0->mmcv<2.1.0,>=2.0.0rc4) (1.1.1)\n",
            "Requirement already satisfied: cycler>=0.10 in /usr/local/lib/python3.10/dist-packages (from matplotlib->mmengine>=0.3.0->mmcv<2.1.0,>=2.0.0rc4) (0.12.1)\n",
            "Requirement already satisfied: fonttools>=4.22.0 in /usr/local/lib/python3.10/dist-packages (from matplotlib->mmengine>=0.3.0->mmcv<2.1.0,>=2.0.0rc4) (4.43.1)\n",
            "Requirement already satisfied: kiwisolver>=1.0.1 in /usr/local/lib/python3.10/dist-packages (from matplotlib->mmengine>=0.3.0->mmcv<2.1.0,>=2.0.0rc4) (1.4.5)\n",
            "Requirement already satisfied: pyparsing>=2.3.1 in /usr/local/lib/python3.10/dist-packages (from matplotlib->mmengine>=0.3.0->mmcv<2.1.0,>=2.0.0rc4) (3.1.1)\n",
            "Requirement already satisfied: python-dateutil>=2.7 in /usr/local/lib/python3.10/dist-packages (from matplotlib->mmengine>=0.3.0->mmcv<2.1.0,>=2.0.0rc4) (2.8.2)\n",
            "Requirement already satisfied: markdown-it-py>=2.2.0 in /usr/local/lib/python3.10/dist-packages (from rich->mmengine>=0.3.0->mmcv<2.1.0,>=2.0.0rc4) (3.0.0)\n",
            "Requirement already satisfied: pygments<3.0.0,>=2.13.0 in /usr/local/lib/python3.10/dist-packages (from rich->mmengine>=0.3.0->mmcv<2.1.0,>=2.0.0rc4) (2.16.1)\n",
            "Requirement already satisfied: mdurl~=0.1 in /usr/local/lib/python3.10/dist-packages (from markdown-it-py>=2.2.0->rich->mmengine>=0.3.0->mmcv<2.1.0,>=2.0.0rc4) (0.1.2)\n",
            "Requirement already satisfied: six>=1.5 in /usr/local/lib/python3.10/dist-packages (from python-dateutil>=2.7->matplotlib->mmengine>=0.3.0->mmcv<2.1.0,>=2.0.0rc4) (1.16.0)\n",
            "Looking in links: https://download.openmmlab.com/mmcv/dist/cu118/torch2.0.0/index.html\n",
            "Requirement already satisfied: mmdet<4.0.0,>=3.0.0 in /usr/local/lib/python3.10/dist-packages (3.2.0)\n",
            "Requirement already satisfied: matplotlib in /usr/local/lib/python3.10/dist-packages (from mmdet<4.0.0,>=3.0.0) (3.7.1)\n",
            "Requirement already satisfied: numpy in /usr/local/lib/python3.10/dist-packages (from mmdet<4.0.0,>=3.0.0) (1.23.5)\n",
            "Requirement already satisfied: pycocotools in /usr/local/lib/python3.10/dist-packages (from mmdet<4.0.0,>=3.0.0) (2.0.7)\n",
            "Requirement already satisfied: scipy in /usr/local/lib/python3.10/dist-packages (from mmdet<4.0.0,>=3.0.0) (1.11.3)\n",
            "Requirement already satisfied: shapely in /usr/local/lib/python3.10/dist-packages (from mmdet<4.0.0,>=3.0.0) (2.0.1)\n",
            "Requirement already satisfied: six in /usr/local/lib/python3.10/dist-packages (from mmdet<4.0.0,>=3.0.0) (1.16.0)\n",
            "Requirement already satisfied: terminaltables in /usr/local/lib/python3.10/dist-packages (from mmdet<4.0.0,>=3.0.0) (3.1.10)\n",
            "Requirement already satisfied: tqdm in /usr/local/lib/python3.10/dist-packages (from mmdet<4.0.0,>=3.0.0) (4.65.2)\n",
            "Requirement already satisfied: mmcv<2.2.0,>=2.0.0rc4 in /usr/local/lib/python3.10/dist-packages (from mmdet<4.0.0,>=3.0.0) (2.0.1)\n",
            "Requirement already satisfied: mmengine<1.0.0,>=0.7.1 in /usr/local/lib/python3.10/dist-packages (from mmdet<4.0.0,>=3.0.0) (0.9.0)\n",
            "Requirement already satisfied: addict in /usr/local/lib/python3.10/dist-packages (from mmcv<2.2.0,>=2.0.0rc4->mmdet<4.0.0,>=3.0.0) (2.4.0)\n",
            "Requirement already satisfied: packaging in /usr/local/lib/python3.10/dist-packages (from mmcv<2.2.0,>=2.0.0rc4->mmdet<4.0.0,>=3.0.0) (23.2)\n",
            "Requirement already satisfied: Pillow in /usr/local/lib/python3.10/dist-packages (from mmcv<2.2.0,>=2.0.0rc4->mmdet<4.0.0,>=3.0.0) (9.4.0)\n",
            "Requirement already satisfied: pyyaml in /usr/local/lib/python3.10/dist-packages (from mmcv<2.2.0,>=2.0.0rc4->mmdet<4.0.0,>=3.0.0) (6.0.1)\n",
            "Requirement already satisfied: yapf in /usr/local/lib/python3.10/dist-packages (from mmcv<2.2.0,>=2.0.0rc4->mmdet<4.0.0,>=3.0.0) (0.40.2)\n",
            "Requirement already satisfied: opencv-python>=3 in /usr/local/lib/python3.10/dist-packages (from mmcv<2.2.0,>=2.0.0rc4->mmdet<4.0.0,>=3.0.0) (4.8.0.76)\n",
            "Requirement already satisfied: rich in /usr/local/lib/python3.10/dist-packages (from mmengine<1.0.0,>=0.7.1->mmdet<4.0.0,>=3.0.0) (13.4.2)\n",
            "Requirement already satisfied: termcolor in /usr/local/lib/python3.10/dist-packages (from mmengine<1.0.0,>=0.7.1->mmdet<4.0.0,>=3.0.0) (2.3.0)\n",
            "Requirement already satisfied: contourpy>=1.0.1 in /usr/local/lib/python3.10/dist-packages (from matplotlib->mmdet<4.0.0,>=3.0.0) (1.1.1)\n",
            "Requirement already satisfied: cycler>=0.10 in /usr/local/lib/python3.10/dist-packages (from matplotlib->mmdet<4.0.0,>=3.0.0) (0.12.1)\n",
            "Requirement already satisfied: fonttools>=4.22.0 in /usr/local/lib/python3.10/dist-packages (from matplotlib->mmdet<4.0.0,>=3.0.0) (4.43.1)\n",
            "Requirement already satisfied: kiwisolver>=1.0.1 in /usr/local/lib/python3.10/dist-packages (from matplotlib->mmdet<4.0.0,>=3.0.0) (1.4.5)\n",
            "Requirement already satisfied: pyparsing>=2.3.1 in /usr/local/lib/python3.10/dist-packages (from matplotlib->mmdet<4.0.0,>=3.0.0) (3.1.1)\n",
            "Requirement already satisfied: python-dateutil>=2.7 in /usr/local/lib/python3.10/dist-packages (from matplotlib->mmdet<4.0.0,>=3.0.0) (2.8.2)\n",
            "Requirement already satisfied: markdown-it-py>=2.2.0 in /usr/local/lib/python3.10/dist-packages (from rich->mmengine<1.0.0,>=0.7.1->mmdet<4.0.0,>=3.0.0) (3.0.0)\n",
            "Requirement already satisfied: pygments<3.0.0,>=2.13.0 in /usr/local/lib/python3.10/dist-packages (from rich->mmengine<1.0.0,>=0.7.1->mmdet<4.0.0,>=3.0.0) (2.16.1)\n",
            "Requirement already satisfied: importlib-metadata>=6.6.0 in /usr/local/lib/python3.10/dist-packages (from yapf->mmcv<2.2.0,>=2.0.0rc4->mmdet<4.0.0,>=3.0.0) (6.8.0)\n",
            "Requirement already satisfied: platformdirs>=3.5.1 in /usr/local/lib/python3.10/dist-packages (from yapf->mmcv<2.2.0,>=2.0.0rc4->mmdet<4.0.0,>=3.0.0) (3.11.0)\n",
            "Requirement already satisfied: tomli>=2.0.1 in /usr/local/lib/python3.10/dist-packages (from yapf->mmcv<2.2.0,>=2.0.0rc4->mmdet<4.0.0,>=3.0.0) (2.0.1)\n",
            "Requirement already satisfied: zipp>=0.5 in /usr/local/lib/python3.10/dist-packages (from importlib-metadata>=6.6.0->yapf->mmcv<2.2.0,>=2.0.0rc4->mmdet<4.0.0,>=3.0.0) (3.17.0)\n",
            "Requirement already satisfied: mdurl~=0.1 in /usr/local/lib/python3.10/dist-packages (from markdown-it-py>=2.2.0->rich->mmengine<1.0.0,>=0.7.1->mmdet<4.0.0,>=3.0.0) (0.1.2)\n"
          ]
        }
      ],
      "source": [
        "!pip install -U openmim\n",
        "!mim install \"mmengine>=0.6.0\"\n",
        "!mim install \"mmcv>=2.0.0rc4,<2.1.0\"\n",
        "!mim install \"mmdet>=3.0.0,<4.0.0\""
      ]
    },
    {
      "cell_type": "markdown",
      "source": [
        "## Step 1. Install MMYOLO.\n",
        "\n",
        "Case b: If you use MMYOLO as a dependency or third-party package, install it with MIM:\n",
        "\n",
        "\n",
        "\n",
        "```\n",
        "!mim install \"mmyolo\"\n",
        "```\n",
        "\n"
      ],
      "metadata": {
        "id": "GdgsRxTE-7pw"
      }
    },
    {
      "cell_type": "code",
      "source": [
        "!mim install \"mmyolo\""
      ],
      "metadata": {
        "colab": {
          "base_uri": "https://localhost:8080/"
        },
        "id": "jRdUsNCM-Zhc",
        "outputId": "895d8b9a-73b5-425a-f0bf-1dff221717b4"
      },
      "execution_count": 2,
      "outputs": [
        {
          "output_type": "stream",
          "name": "stdout",
          "text": [
            "Looking in links: https://download.openmmlab.com/mmcv/dist/cu118/torch2.0.0/index.html\n",
            "Collecting mmyolo\n",
            "  Downloading mmyolo-0.6.0-py3-none-any.whl (453 kB)\n",
            "\u001b[2K     \u001b[90m━━━━━━━━━━━━━━━━━━━━━━━━━━━━━━━━━━━━━━━━\u001b[0m \u001b[32m453.7/453.7 kB\u001b[0m \u001b[31m5.4 MB/s\u001b[0m eta \u001b[36m0:00:00\u001b[0m\n",
            "\u001b[?25hRequirement already satisfied: numpy in /usr/local/lib/python3.10/dist-packages (from mmyolo) (1.23.5)\n",
            "Requirement already satisfied: prettytable in /usr/local/lib/python3.10/dist-packages (from mmyolo) (3.9.0)\n",
            "Requirement already satisfied: mmcv<2.1.0,>=2.0.0rc4 in /usr/local/lib/python3.10/dist-packages (from mmyolo) (2.0.1)\n",
            "Requirement already satisfied: mmdet>=3.0.0 in /usr/local/lib/python3.10/dist-packages (from mmyolo) (3.2.0)\n",
            "Requirement already satisfied: mmengine>=0.7.1 in /usr/local/lib/python3.10/dist-packages (from mmyolo) (0.9.0)\n",
            "Requirement already satisfied: addict in /usr/local/lib/python3.10/dist-packages (from mmcv<2.1.0,>=2.0.0rc4->mmyolo) (2.4.0)\n",
            "Requirement already satisfied: packaging in /usr/local/lib/python3.10/dist-packages (from mmcv<2.1.0,>=2.0.0rc4->mmyolo) (23.2)\n",
            "Requirement already satisfied: Pillow in /usr/local/lib/python3.10/dist-packages (from mmcv<2.1.0,>=2.0.0rc4->mmyolo) (9.4.0)\n",
            "Requirement already satisfied: pyyaml in /usr/local/lib/python3.10/dist-packages (from mmcv<2.1.0,>=2.0.0rc4->mmyolo) (6.0.1)\n",
            "Requirement already satisfied: yapf in /usr/local/lib/python3.10/dist-packages (from mmcv<2.1.0,>=2.0.0rc4->mmyolo) (0.40.2)\n",
            "Requirement already satisfied: opencv-python>=3 in /usr/local/lib/python3.10/dist-packages (from mmcv<2.1.0,>=2.0.0rc4->mmyolo) (4.8.0.76)\n",
            "Requirement already satisfied: matplotlib in /usr/local/lib/python3.10/dist-packages (from mmdet>=3.0.0->mmyolo) (3.7.1)\n",
            "Requirement already satisfied: pycocotools in /usr/local/lib/python3.10/dist-packages (from mmdet>=3.0.0->mmyolo) (2.0.7)\n",
            "Requirement already satisfied: scipy in /usr/local/lib/python3.10/dist-packages (from mmdet>=3.0.0->mmyolo) (1.11.3)\n",
            "Requirement already satisfied: shapely in /usr/local/lib/python3.10/dist-packages (from mmdet>=3.0.0->mmyolo) (2.0.1)\n",
            "Requirement already satisfied: six in /usr/local/lib/python3.10/dist-packages (from mmdet>=3.0.0->mmyolo) (1.16.0)\n",
            "Requirement already satisfied: terminaltables in /usr/local/lib/python3.10/dist-packages (from mmdet>=3.0.0->mmyolo) (3.1.10)\n",
            "Requirement already satisfied: tqdm in /usr/local/lib/python3.10/dist-packages (from mmdet>=3.0.0->mmyolo) (4.65.2)\n",
            "Requirement already satisfied: rich in /usr/local/lib/python3.10/dist-packages (from mmengine>=0.7.1->mmyolo) (13.4.2)\n",
            "Requirement already satisfied: termcolor in /usr/local/lib/python3.10/dist-packages (from mmengine>=0.7.1->mmyolo) (2.3.0)\n",
            "Requirement already satisfied: wcwidth in /usr/local/lib/python3.10/dist-packages (from prettytable->mmyolo) (0.2.8)\n",
            "Requirement already satisfied: contourpy>=1.0.1 in /usr/local/lib/python3.10/dist-packages (from matplotlib->mmdet>=3.0.0->mmyolo) (1.1.1)\n",
            "Requirement already satisfied: cycler>=0.10 in /usr/local/lib/python3.10/dist-packages (from matplotlib->mmdet>=3.0.0->mmyolo) (0.12.1)\n",
            "Requirement already satisfied: fonttools>=4.22.0 in /usr/local/lib/python3.10/dist-packages (from matplotlib->mmdet>=3.0.0->mmyolo) (4.43.1)\n",
            "Requirement already satisfied: kiwisolver>=1.0.1 in /usr/local/lib/python3.10/dist-packages (from matplotlib->mmdet>=3.0.0->mmyolo) (1.4.5)\n",
            "Requirement already satisfied: pyparsing>=2.3.1 in /usr/local/lib/python3.10/dist-packages (from matplotlib->mmdet>=3.0.0->mmyolo) (3.1.1)\n",
            "Requirement already satisfied: python-dateutil>=2.7 in /usr/local/lib/python3.10/dist-packages (from matplotlib->mmdet>=3.0.0->mmyolo) (2.8.2)\n",
            "Requirement already satisfied: markdown-it-py>=2.2.0 in /usr/local/lib/python3.10/dist-packages (from rich->mmengine>=0.7.1->mmyolo) (3.0.0)\n",
            "Requirement already satisfied: pygments<3.0.0,>=2.13.0 in /usr/local/lib/python3.10/dist-packages (from rich->mmengine>=0.7.1->mmyolo) (2.16.1)\n",
            "Requirement already satisfied: importlib-metadata>=6.6.0 in /usr/local/lib/python3.10/dist-packages (from yapf->mmcv<2.1.0,>=2.0.0rc4->mmyolo) (6.8.0)\n",
            "Requirement already satisfied: platformdirs>=3.5.1 in /usr/local/lib/python3.10/dist-packages (from yapf->mmcv<2.1.0,>=2.0.0rc4->mmyolo) (3.11.0)\n",
            "Requirement already satisfied: tomli>=2.0.1 in /usr/local/lib/python3.10/dist-packages (from yapf->mmcv<2.1.0,>=2.0.0rc4->mmyolo) (2.0.1)\n",
            "Requirement already satisfied: zipp>=0.5 in /usr/local/lib/python3.10/dist-packages (from importlib-metadata>=6.6.0->yapf->mmcv<2.1.0,>=2.0.0rc4->mmyolo) (3.17.0)\n",
            "Requirement already satisfied: mdurl~=0.1 in /usr/local/lib/python3.10/dist-packages (from markdown-it-py>=2.2.0->rich->mmengine>=0.7.1->mmyolo) (0.1.2)\n",
            "Installing collected packages: mmyolo\n",
            "Successfully installed mmyolo-0.6.0\n"
          ]
        }
      ]
    },
    {
      "cell_type": "markdown",
      "source": [
        "# Verify the installation"
      ],
      "metadata": {
        "id": "TTlVV3KT_fRU"
      }
    },
    {
      "cell_type": "markdown",
      "source": [
        "## Step 1. We need to download config and checkpoint files."
      ],
      "metadata": {
        "id": "P6qeaxR3_m5T"
      }
    },
    {
      "cell_type": "code",
      "source": [
        "!mim download mmyolo --config yolov5_s-v61_syncbn_fast_8xb16-300e_coco --dest ."
      ],
      "metadata": {
        "colab": {
          "base_uri": "https://localhost:8080/"
        },
        "id": "7ICb6xfQ-Zem",
        "outputId": "c0635480-bb01-47fa-f075-083be47f7381"
      },
      "execution_count": 3,
      "outputs": [
        {
          "output_type": "stream",
          "name": "stdout",
          "text": [
            "processing yolov5_s-v61_syncbn_fast_8xb16-300e_coco...\n",
            "\u001b[2Kdownloading \u001b[90m━━━━━━━━━━━━━━━━━━━━━━━━━━━━━━━━━━━━━━━━\u001b[0m \u001b[32m27.8/27.8 MiB\u001b[0m \u001b[31m8.6 MB/s\u001b[0m eta \u001b[36m0:00:00\u001b[0m\n",
            "\u001b[?25h\u001b[32mSuccessfully downloaded yolov5_s-v61_syncbn_fast_8xb16-300e_coco_20220918_084700-86e02187.pth to /content\u001b[0m\n",
            "\u001b[32mSuccessfully dumped yolov5_s-v61_syncbn_fast_8xb16-300e_coco.py to /content\u001b[0m\n"
          ]
        }
      ]
    },
    {
      "cell_type": "markdown",
      "source": [
        "![image.png](data:image/png;base64,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)"
      ],
      "metadata": {
        "id": "rR532tmSAfpy"
      }
    },
    {
      "cell_type": "markdown",
      "source": [
        "## Step 2. Verify the inference demo\n",
        "\n",
        "**case(option) b로 선택했으므로, 아래와 같이 진행**\n",
        "\n",
        "Option (b). If you install MMYOLO with MIM, open your python interpreter and copy&paste the following codes.\n",
        "\n",
        "\n",
        "\n",
        "```\n",
        "from mmdet.apis import init_detector, inference_detector\n",
        "\n",
        "config_file = 'yolov5_s-v61_syncbn_fast_8xb16-300e_coco.py'\n",
        "checkpoint_file = 'yolov5_s-v61_syncbn_fast_8xb16-300e_coco_20220918_084700-86e02187.pth'\n",
        "model = init_detector(config_file, checkpoint_file, device='cpu')  # or device='cuda:0'\n",
        "inference_detector(model, 'demo/demo.jpg')\n",
        "```\n",
        "\n"
      ],
      "metadata": {
        "id": "wwMecEYj_muW"
      }
    },
    {
      "cell_type": "markdown",
      "source": [
        "You will see **a list of DetDataSample**, and the **predictions are in the pred_instance**, indicating the detected bounding boxes, labels, and scores."
      ],
      "metadata": {
        "id": "FNTKvHXyAq6V"
      }
    },
    {
      "cell_type": "code",
      "source": [
        "from mmdet.apis import init_detector, inference_detector\n",
        "\n",
        "config_file = 'yolov5_s-v61_syncbn_fast_8xb16-300e_coco.py'\n",
        "checkpoint_file = 'yolov5_s-v61_syncbn_fast_8xb16-300e_coco_20220918_084700-86e02187.pth'\n",
        "model = init_detector(config_file, checkpoint_file, device='cpu')  # or device='cuda:0'\n",
        "inference_detector(model, 'demo/demo.jpg')"
      ],
      "metadata": {
        "colab": {
          "base_uri": "https://localhost:8080/",
          "height": 392
        },
        "id": "OYv_v-gQ-Zb3",
        "outputId": "9d4e008d-b0f2-4440-c7bf-c60cd7888966"
      },
      "execution_count": 10,
      "outputs": [
        {
          "output_type": "stream",
          "name": "stdout",
          "text": [
            "Loads checkpoint by local backend from path: yolov5_s-v61_syncbn_fast_8xb16-300e_coco_20220918_084700-86e02187.pth\n"
          ]
        },
        {
          "output_type": "error",
          "ename": "FileNotFoundError",
          "evalue": "ignored",
          "traceback": [
            "\u001b[0;31m---------------------------------------------------------------------------\u001b[0m",
            "\u001b[0;31mFileNotFoundError\u001b[0m                         Traceback (most recent call last)",
            "\u001b[0;32m<ipython-input-10-fdfa59a54d0a>\u001b[0m in \u001b[0;36m<cell line: 6>\u001b[0;34m()\u001b[0m\n\u001b[1;32m      4\u001b[0m \u001b[0mcheckpoint_file\u001b[0m \u001b[0;34m=\u001b[0m \u001b[0;34m'yolov5_s-v61_syncbn_fast_8xb16-300e_coco_20220918_084700-86e02187.pth'\u001b[0m\u001b[0;34m\u001b[0m\u001b[0;34m\u001b[0m\u001b[0m\n\u001b[1;32m      5\u001b[0m \u001b[0mmodel\u001b[0m \u001b[0;34m=\u001b[0m \u001b[0minit_detector\u001b[0m\u001b[0;34m(\u001b[0m\u001b[0mconfig_file\u001b[0m\u001b[0;34m,\u001b[0m \u001b[0mcheckpoint_file\u001b[0m\u001b[0;34m,\u001b[0m \u001b[0mdevice\u001b[0m\u001b[0;34m=\u001b[0m\u001b[0;34m'cpu'\u001b[0m\u001b[0;34m)\u001b[0m  \u001b[0;31m# or device='cuda:0'\u001b[0m\u001b[0;34m\u001b[0m\u001b[0;34m\u001b[0m\u001b[0m\n\u001b[0;32m----> 6\u001b[0;31m \u001b[0minference_detector\u001b[0m\u001b[0;34m(\u001b[0m\u001b[0mmodel\u001b[0m\u001b[0;34m,\u001b[0m \u001b[0;34m'demo/demo.jpg'\u001b[0m\u001b[0;34m)\u001b[0m\u001b[0;34m\u001b[0m\u001b[0;34m\u001b[0m\u001b[0m\n\u001b[0m",
            "\u001b[0;32m/usr/local/lib/python3.10/dist-packages/mmdet/apis/inference.py\u001b[0m in \u001b[0;36minference_detector\u001b[0;34m(model, imgs, test_pipeline, text_prompt, custom_entities)\u001b[0m\n\u001b[1;32m    180\u001b[0m \u001b[0;34m\u001b[0m\u001b[0m\n\u001b[1;32m    181\u001b[0m         \u001b[0;31m# build the data pipeline\u001b[0m\u001b[0;34m\u001b[0m\u001b[0;34m\u001b[0m\u001b[0m\n\u001b[0;32m--> 182\u001b[0;31m         \u001b[0mdata_\u001b[0m \u001b[0;34m=\u001b[0m \u001b[0mtest_pipeline\u001b[0m\u001b[0;34m(\u001b[0m\u001b[0mdata_\u001b[0m\u001b[0;34m)\u001b[0m\u001b[0;34m\u001b[0m\u001b[0;34m\u001b[0m\u001b[0m\n\u001b[0m\u001b[1;32m    183\u001b[0m \u001b[0;34m\u001b[0m\u001b[0m\n\u001b[1;32m    184\u001b[0m         \u001b[0mdata_\u001b[0m\u001b[0;34m[\u001b[0m\u001b[0;34m'inputs'\u001b[0m\u001b[0;34m]\u001b[0m \u001b[0;34m=\u001b[0m \u001b[0;34m[\u001b[0m\u001b[0mdata_\u001b[0m\u001b[0;34m[\u001b[0m\u001b[0;34m'inputs'\u001b[0m\u001b[0;34m]\u001b[0m\u001b[0;34m]\u001b[0m\u001b[0;34m\u001b[0m\u001b[0;34m\u001b[0m\u001b[0m\n",
            "\u001b[0;32m/usr/local/lib/python3.10/dist-packages/mmcv/transforms/base.py\u001b[0m in \u001b[0;36m__call__\u001b[0;34m(self, results)\u001b[0m\n\u001b[1;32m     10\u001b[0m                  results: Dict) -> Optional[Union[Dict, Tuple[List, List]]]:\n\u001b[1;32m     11\u001b[0m \u001b[0;34m\u001b[0m\u001b[0m\n\u001b[0;32m---> 12\u001b[0;31m         \u001b[0;32mreturn\u001b[0m \u001b[0mself\u001b[0m\u001b[0;34m.\u001b[0m\u001b[0mtransform\u001b[0m\u001b[0;34m(\u001b[0m\u001b[0mresults\u001b[0m\u001b[0;34m)\u001b[0m\u001b[0;34m\u001b[0m\u001b[0;34m\u001b[0m\u001b[0m\n\u001b[0m\u001b[1;32m     13\u001b[0m \u001b[0;34m\u001b[0m\u001b[0m\n\u001b[1;32m     14\u001b[0m     \u001b[0;34m@\u001b[0m\u001b[0mabstractmethod\u001b[0m\u001b[0;34m\u001b[0m\u001b[0;34m\u001b[0m\u001b[0m\n",
            "\u001b[0;32m/usr/local/lib/python3.10/dist-packages/mmcv/transforms/wrappers.py\u001b[0m in \u001b[0;36mtransform\u001b[0;34m(self, results)\u001b[0m\n\u001b[1;32m     86\u001b[0m         \"\"\"\n\u001b[1;32m     87\u001b[0m         \u001b[0;32mfor\u001b[0m \u001b[0mt\u001b[0m \u001b[0;32min\u001b[0m \u001b[0mself\u001b[0m\u001b[0;34m.\u001b[0m\u001b[0mtransforms\u001b[0m\u001b[0;34m:\u001b[0m\u001b[0;34m\u001b[0m\u001b[0;34m\u001b[0m\u001b[0m\n\u001b[0;32m---> 88\u001b[0;31m             \u001b[0mresults\u001b[0m \u001b[0;34m=\u001b[0m \u001b[0mt\u001b[0m\u001b[0;34m(\u001b[0m\u001b[0mresults\u001b[0m\u001b[0;34m)\u001b[0m  \u001b[0;31m# type: ignore\u001b[0m\u001b[0;34m\u001b[0m\u001b[0;34m\u001b[0m\u001b[0m\n\u001b[0m\u001b[1;32m     89\u001b[0m             \u001b[0;32mif\u001b[0m \u001b[0mresults\u001b[0m \u001b[0;32mis\u001b[0m \u001b[0;32mNone\u001b[0m\u001b[0;34m:\u001b[0m\u001b[0;34m\u001b[0m\u001b[0;34m\u001b[0m\u001b[0m\n\u001b[1;32m     90\u001b[0m                 \u001b[0;32mreturn\u001b[0m \u001b[0;32mNone\u001b[0m\u001b[0;34m\u001b[0m\u001b[0;34m\u001b[0m\u001b[0m\n",
            "\u001b[0;32m/usr/local/lib/python3.10/dist-packages/mmcv/transforms/base.py\u001b[0m in \u001b[0;36m__call__\u001b[0;34m(self, results)\u001b[0m\n\u001b[1;32m     10\u001b[0m                  results: Dict) -> Optional[Union[Dict, Tuple[List, List]]]:\n\u001b[1;32m     11\u001b[0m \u001b[0;34m\u001b[0m\u001b[0m\n\u001b[0;32m---> 12\u001b[0;31m         \u001b[0;32mreturn\u001b[0m \u001b[0mself\u001b[0m\u001b[0;34m.\u001b[0m\u001b[0mtransform\u001b[0m\u001b[0;34m(\u001b[0m\u001b[0mresults\u001b[0m\u001b[0;34m)\u001b[0m\u001b[0;34m\u001b[0m\u001b[0;34m\u001b[0m\u001b[0m\n\u001b[0m\u001b[1;32m     13\u001b[0m \u001b[0;34m\u001b[0m\u001b[0m\n\u001b[1;32m     14\u001b[0m     \u001b[0;34m@\u001b[0m\u001b[0mabstractmethod\u001b[0m\u001b[0;34m\u001b[0m\u001b[0;34m\u001b[0m\u001b[0m\n",
            "\u001b[0;32m/usr/local/lib/python3.10/dist-packages/mmcv/transforms/loading.py\u001b[0m in \u001b[0;36mtransform\u001b[0;34m(self, results)\u001b[0m\n\u001b[1;32m    105\u001b[0m                 \u001b[0;32mreturn\u001b[0m \u001b[0;32mNone\u001b[0m\u001b[0;34m\u001b[0m\u001b[0;34m\u001b[0m\u001b[0m\n\u001b[1;32m    106\u001b[0m             \u001b[0;32melse\u001b[0m\u001b[0;34m:\u001b[0m\u001b[0;34m\u001b[0m\u001b[0;34m\u001b[0m\u001b[0m\n\u001b[0;32m--> 107\u001b[0;31m                 \u001b[0;32mraise\u001b[0m \u001b[0me\u001b[0m\u001b[0;34m\u001b[0m\u001b[0;34m\u001b[0m\u001b[0m\n\u001b[0m\u001b[1;32m    108\u001b[0m         \u001b[0;31m# in some cases, images are not read successfully, the img would be\u001b[0m\u001b[0;34m\u001b[0m\u001b[0;34m\u001b[0m\u001b[0m\n\u001b[1;32m    109\u001b[0m         \u001b[0;31m# `None`, refer to https://github.com/open-mmlab/mmpretrain/issues/1427\u001b[0m\u001b[0;34m\u001b[0m\u001b[0;34m\u001b[0m\u001b[0m\n",
            "\u001b[0;32m/usr/local/lib/python3.10/dist-packages/mmcv/transforms/loading.py\u001b[0m in \u001b[0;36mtransform\u001b[0;34m(self, results)\u001b[0m\n\u001b[1;32m     97\u001b[0m                 \u001b[0mimg_bytes\u001b[0m \u001b[0;34m=\u001b[0m \u001b[0mfile_client\u001b[0m\u001b[0;34m.\u001b[0m\u001b[0mget\u001b[0m\u001b[0;34m(\u001b[0m\u001b[0mfilename\u001b[0m\u001b[0;34m)\u001b[0m\u001b[0;34m\u001b[0m\u001b[0;34m\u001b[0m\u001b[0m\n\u001b[1;32m     98\u001b[0m             \u001b[0;32melse\u001b[0m\u001b[0;34m:\u001b[0m\u001b[0;34m\u001b[0m\u001b[0;34m\u001b[0m\u001b[0m\n\u001b[0;32m---> 99\u001b[0;31m                 img_bytes = fileio.get(\n\u001b[0m\u001b[1;32m    100\u001b[0m                     filename, backend_args=self.backend_args)\n\u001b[1;32m    101\u001b[0m             img = mmcv.imfrombytes(\n",
            "\u001b[0;32m/usr/local/lib/python3.10/dist-packages/mmengine/fileio/io.py\u001b[0m in \u001b[0;36mget\u001b[0;34m(filepath, backend_args)\u001b[0m\n\u001b[1;32m    179\u001b[0m     backend = get_file_backend(\n\u001b[1;32m    180\u001b[0m         filepath, backend_args=backend_args, enable_singleton=True)\n\u001b[0;32m--> 181\u001b[0;31m     \u001b[0;32mreturn\u001b[0m \u001b[0mbackend\u001b[0m\u001b[0;34m.\u001b[0m\u001b[0mget\u001b[0m\u001b[0;34m(\u001b[0m\u001b[0mfilepath\u001b[0m\u001b[0;34m)\u001b[0m\u001b[0;34m\u001b[0m\u001b[0;34m\u001b[0m\u001b[0m\n\u001b[0m\u001b[1;32m    182\u001b[0m \u001b[0;34m\u001b[0m\u001b[0m\n\u001b[1;32m    183\u001b[0m \u001b[0;34m\u001b[0m\u001b[0m\n",
            "\u001b[0;32m/usr/local/lib/python3.10/dist-packages/mmengine/fileio/backends/local_backend.py\u001b[0m in \u001b[0;36mget\u001b[0;34m(self, filepath)\u001b[0m\n\u001b[1;32m     31\u001b[0m             \u001b[0;34mb'hello world'\u001b[0m\u001b[0;34m\u001b[0m\u001b[0;34m\u001b[0m\u001b[0m\n\u001b[1;32m     32\u001b[0m         \"\"\"\n\u001b[0;32m---> 33\u001b[0;31m         \u001b[0;32mwith\u001b[0m \u001b[0mopen\u001b[0m\u001b[0;34m(\u001b[0m\u001b[0mfilepath\u001b[0m\u001b[0;34m,\u001b[0m \u001b[0;34m'rb'\u001b[0m\u001b[0;34m)\u001b[0m \u001b[0;32mas\u001b[0m \u001b[0mf\u001b[0m\u001b[0;34m:\u001b[0m\u001b[0;34m\u001b[0m\u001b[0;34m\u001b[0m\u001b[0m\n\u001b[0m\u001b[1;32m     34\u001b[0m             \u001b[0mvalue\u001b[0m \u001b[0;34m=\u001b[0m \u001b[0mf\u001b[0m\u001b[0;34m.\u001b[0m\u001b[0mread\u001b[0m\u001b[0;34m(\u001b[0m\u001b[0;34m)\u001b[0m\u001b[0;34m\u001b[0m\u001b[0;34m\u001b[0m\u001b[0m\n\u001b[1;32m     35\u001b[0m         \u001b[0;32mreturn\u001b[0m \u001b[0mvalue\u001b[0m\u001b[0;34m\u001b[0m\u001b[0;34m\u001b[0m\u001b[0m\n",
            "\u001b[0;31mFileNotFoundError\u001b[0m: [Errno 2] No such file or directory: 'demo/demo.jpg'"
          ]
        }
      ]
    },
    {
      "cell_type": "code",
      "source": [
        "!pwd"
      ],
      "metadata": {
        "colab": {
          "base_uri": "https://localhost:8080/"
        },
        "id": "uQpnmnM7-ZZx",
        "outputId": "f59319e7-0f72-4100-ba06-3cd6d6563950"
      },
      "execution_count": 8,
      "outputs": [
        {
          "output_type": "stream",
          "name": "stdout",
          "text": [
            "/content\n"
          ]
        }
      ]
    },
    {
      "cell_type": "code",
      "source": [],
      "metadata": {
        "id": "oawM1JAn-ZXS"
      },
      "execution_count": null,
      "outputs": []
    },
    {
      "cell_type": "code",
      "source": [],
      "metadata": {
        "id": "vTd4zBTR-ZU_"
      },
      "execution_count": null,
      "outputs": []
    },
    {
      "cell_type": "code",
      "source": [],
      "metadata": {
        "id": "Vxa3L5lG-ZSW"
      },
      "execution_count": null,
      "outputs": []
    },
    {
      "cell_type": "code",
      "source": [],
      "metadata": {
        "id": "fF3AWKad-ZPb"
      },
      "execution_count": null,
      "outputs": []
    }
  ]
}